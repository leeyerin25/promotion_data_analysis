{
 "cells": [
  {
   "cell_type": "markdown",
   "metadata": {},
   "source": [
    "### 0. Import Library"
   ]
  },
  {
   "cell_type": "code",
   "execution_count": 2,
   "metadata": {},
   "outputs": [],
   "source": [
    "import pandas as pd, numpy as np\n",
    "import pymysql, os, gspread\n",
    "\n",
    "from tqdm import tqdm\n",
    "from datetime import datetime\n",
    "\n",
    "pd.set_option('display.max_columns', None)\n",
    "\n",
    "def live_db_conn():\n",
    "    conn = pymysql.connect(host='db-6j3k3.pub-cdb.ntruss.com', user='redtable', password='fpemxpdlqmf5491!@#',autocommit=True,cursorclass=pymysql.cursors.DictCursor, db = \"redtable2021\")\n",
    "    return conn"
   ]
  },
  {
   "cell_type": "markdown",
   "metadata": {},
   "source": [
    "### 1. Load Data"
   ]
  },
  {
   "cell_type": "code",
   "execution_count": 3,
   "metadata": {},
   "outputs": [],
   "source": [
    "sa = gspread.service_account(\"../gspread_token/snappy-cosine-411501-fbfbf5c109c9.json\")\n",
    "\n",
    "iaurora = sa.open(\"레드테이블x아이오로라\")\n",
    "df_iaurora = iaurora.worksheet(\"외부인원_NEW_결제내역\")\n",
    "values = df_iaurora.get_all_values()\n",
    "header, rows = values[0], values[1:]\n",
    "df_iaurora = pd.DataFrame(rows, columns=header)\n",
    "\n",
    "kona = sa.open(\"코나아이X코리아트래블카드\")\n",
    "df_kona = kona.worksheet(\"결제내역(코나)\")\n",
    "values = df_kona.get_all_values()\n",
    "header, rows = values[1], values[2:]\n",
    "df_kona = pd.DataFrame(rows, columns=header)\n",
    "df_kona.rename(columns={'address':'주소'}, inplace=True)\n",
    "\n",
    "def filter_and_assign_promotion(df, address_starts, promotion_name):\n",
    "    condition = df[\"주소\"].str.startswith(tuple(address_starts))\n",
    "    columns = [\"id\", \"masking_card_no\", \"16자리 카드번호\", \"사업자번호\", \"결제날짜\", \n",
    "               \"결제시간\", \"시/도\", \"시/군/구\", \"카테고리_대분류\", \"category_one\", \n",
    "               \"category_two\", \"상점명\", \"주소\", \"결제금액\", \"결제후잔액\",\n",
    "               \"채널_대분류\", \"분출채널\", \"iaurora_id\"]\n",
    "    filtered_df = df.loc[condition, columns]\n",
    "    filtered_df[\"프로모션\"] = promotion_name\n",
    "    filtered_df[\"카드형태\"] = \"아이오로라\"\n",
    "    filtered_df = filtered_df[filtered_df[\"결제날짜\"] > \"20240421\"]\n",
    "    return filtered_df\n",
    "\n",
    "def kona_filter_and_assign_promotion(df, address_starts, promotion_name):\n",
    "    condition = df[\"주소\"].str.startswith(tuple(address_starts))\n",
    "    df[\"masking_card_no\"] = df[\"카드번호\"]\n",
    "    columns = [\"id\", \"masking_card_no\", \"카드번호\", \"사업자번호\", \"결제날짜\", \n",
    "               \"결제시간\", \"시/도\", \"시/군/구\", \"카테고리_대분류\", \"category_one\", \n",
    "               \"category_two\", \"상점명\", \"주소\", \"결제금액\", \"결제후금액\",\n",
    "               \"채널_대분류\", \"분출채널\", \"userId\"]\n",
    "    filtered_df = df.loc[condition, columns]\n",
    "    filtered_df[\"프로모션\"] = promotion_name\n",
    "    filtered_df[\"카드형태\"] = \"코나\"\n",
    "    filtered_df = filtered_df[filtered_df[\"결제날짜\"] > \"20240421\"]\n",
    "    return filtered_df\n",
    "\n",
    "promotions = {\n",
    "    \"롯데백화점 본점\": [\"서울특별시 중구 소공동 1\", \"서울특별시 중구 을지로1가 132-2\", \"서울특별시 중구 남대문로 81\"],\n",
    "    \"롯데백화점 영플라자\": [\"서울특별시 중구 소공동 123\", \"서울특별시 중구 남대문로 67\"],\n",
    "    \"롯데백화점 잠실점\": [\"서울특별시 송파구 잠실동 40-1\", \"서울특별시 송파구 올림픽로 240\" , \"서울특별시 송파구 송파대로 521\"],\n",
    "    \"롯데백화점 캐슬플라자\": [\"서울특별시 송파구 신천동 7-18\", \"서울특별시 송파구 올림픽로 269\"]\n",
    "}\n",
    "\n",
    "def df_preprocessing(df, index):\n",
    "    # 각 프로모션에 대해 데이터 프레임 생성 및 병합\n",
    "    df_list = []\n",
    "    if index == \"kona\":\n",
    "        for promotion, addresses in promotions.items():\n",
    "            df_promotion = kona_filter_and_assign_promotion(df, addresses, promotion)\n",
    "            df_list.append(df_promotion)\n",
    "    else:\n",
    "    \n",
    "        for promotion, addresses in promotions.items():\n",
    "            df_promotion = filter_and_assign_promotion(df, addresses, promotion)\n",
    "            df_list.append(df_promotion)\n",
    "\n",
    "    # 데이터 프레임 병합\n",
    "    df_merge = pd.concat(df_list)\n",
    "\n",
    "    # 중복 제거 및 정렬\n",
    "    df_merge = df_merge.astype({\"id\":\"int\"})\n",
    "    df_merge.drop_duplicates(subset=[\"id\"], inplace=True)\n",
    "    df_merge.sort_values(\"id\", ascending=True, inplace=True)\n",
    "    df_merge.reset_index(drop=True, inplace=True)\n",
    "    return df_merge\n",
    "\n",
    "\n",
    "df_merge_iaurora = df_preprocessing(df_iaurora, \"iaurora\")\n",
    "df_merge_kona = df_preprocessing(df_kona, \"kona\")\n",
    "\n",
    "df_merge_iaurora = df_merge_iaurora.rename(columns={\"결제후잔액\":\"결제후금액\", \"iaurora_id\":\"card_id\"})\n",
    "df_merge_kona = df_merge_kona.rename(columns={\"카드번호\":\"16자리 카드번호\", \"userId\":\"card_id\"})\n",
    "\n",
    "df_final = pd.concat([df_merge_iaurora, df_merge_kona], axis=0)\n",
    "df_final.sort_values(by=[\"결제날짜\", \"결제시간\"], ascending=True, inplace=True)\n",
    "\n",
    "df_final.reset_index(drop=True, inplace=True)\n",
    "\n",
    "df_final[\"결제금액\"] = df_final[\"결제금액\"].apply(lambda x: int(str(x).replace(\"₩\",\"\").replace(\",\",\"\")))\n",
    "df_final[\"결제후금액\"] = df_final[\"결제후금액\"].apply(lambda x: int(str(x).replace(\"₩\",\"\").replace(\",\",\"\")))\n",
    "\n",
    "def business_check(input_text):\n",
    "    \"\"\"롯데백화점 4개\"\"\"\n",
    "    if str(input_text) in (\"1048126067\", \"2018513497\", \"2198500066\", \"2158524595\"):\n",
    "        return \"O\"\n",
    "    return \"X\"\n",
    "\n",
    "df_final[\"롯데사업자_유무\"] = df_final[\"사업자번호\"].apply(lambda x:business_check(x))\n",
    "\n",
    "df_final = df_final[['프로모션', '카드형태', 'id', 'masking_card_no', '16자리 카드번호',\n",
    "                    '사업자번호', '롯데사업자_유무', '결제날짜', '결제시간', '시/도', \n",
    "                    '시/군/구', '카테고리_대분류', 'category_one', 'category_two', '상점명', \n",
    "                    '주소', '결제금액', '결제후금액', '채널_대분류', '분출채널', 'card_id']]\n"
   ]
  },
  {
   "cell_type": "code",
   "execution_count": 4,
   "metadata": {},
   "outputs": [
    {
     "data": {
      "text/html": [
       "<div>\n",
       "<style scoped>\n",
       "    .dataframe tbody tr th:only-of-type {\n",
       "        vertical-align: middle;\n",
       "    }\n",
       "\n",
       "    .dataframe tbody tr th {\n",
       "        vertical-align: top;\n",
       "    }\n",
       "\n",
       "    .dataframe thead th {\n",
       "        text-align: right;\n",
       "    }\n",
       "</style>\n",
       "<table border=\"1\" class=\"dataframe\">\n",
       "  <thead>\n",
       "    <tr style=\"text-align: right;\">\n",
       "      <th></th>\n",
       "      <th>프로모션</th>\n",
       "      <th>카드형태</th>\n",
       "      <th>id</th>\n",
       "      <th>masking_card_no</th>\n",
       "      <th>16자리 카드번호</th>\n",
       "      <th>사업자번호</th>\n",
       "      <th>롯데사업자_유무</th>\n",
       "      <th>결제날짜</th>\n",
       "      <th>결제시간</th>\n",
       "      <th>시/도</th>\n",
       "      <th>시/군/구</th>\n",
       "      <th>카테고리_대분류</th>\n",
       "      <th>category_one</th>\n",
       "      <th>category_two</th>\n",
       "      <th>상점명</th>\n",
       "      <th>주소</th>\n",
       "      <th>결제금액</th>\n",
       "      <th>결제후금액</th>\n",
       "      <th>채널_대분류</th>\n",
       "      <th>분출채널</th>\n",
       "      <th>card_id</th>\n",
       "    </tr>\n",
       "  </thead>\n",
       "  <tbody>\n",
       "    <tr>\n",
       "      <th>0</th>\n",
       "      <td>롯데백화점 본점</td>\n",
       "      <td>코나</td>\n",
       "      <td>28</td>\n",
       "      <td>9410411100080104</td>\n",
       "      <td>9410411100080104</td>\n",
       "      <td>1048126067</td>\n",
       "      <td>O</td>\n",
       "      <td>20240423</td>\n",
       "      <td>155934</td>\n",
       "      <td>서울특별시</td>\n",
       "      <td>중구</td>\n",
       "      <td>쇼핑</td>\n",
       "      <td>쇼핑,유통</td>\n",
       "      <td>백화점</td>\n",
       "      <td>롯데백화점 본점</td>\n",
       "      <td>서울특별시 중구 소공동 1</td>\n",
       "      <td>105000</td>\n",
       "      <td>145503</td>\n",
       "      <td>내부인원</td>\n",
       "      <td>내부인원</td>\n",
       "      <td>3101644687</td>\n",
       "    </tr>\n",
       "    <tr>\n",
       "      <th>1</th>\n",
       "      <td>롯데백화점 본점</td>\n",
       "      <td>코나</td>\n",
       "      <td>50</td>\n",
       "      <td>9410411100080104</td>\n",
       "      <td>9410411100080104</td>\n",
       "      <td>1048126067</td>\n",
       "      <td>O</td>\n",
       "      <td>20240423</td>\n",
       "      <td>161047</td>\n",
       "      <td>서울특별시</td>\n",
       "      <td>중구</td>\n",
       "      <td>쇼핑</td>\n",
       "      <td>쇼핑,유통</td>\n",
       "      <td>백화점</td>\n",
       "      <td>롯데백화점 본점</td>\n",
       "      <td>서울특별시 중구 소공동 1</td>\n",
       "      <td>97300</td>\n",
       "      <td>48413</td>\n",
       "      <td>내부인원</td>\n",
       "      <td>내부인원</td>\n",
       "      <td>3101644687</td>\n",
       "    </tr>\n",
       "    <tr>\n",
       "      <th>2</th>\n",
       "      <td>롯데백화점 본점</td>\n",
       "      <td>코나</td>\n",
       "      <td>339</td>\n",
       "      <td>9410411100080104</td>\n",
       "      <td>9410411100080104</td>\n",
       "      <td>1048126067</td>\n",
       "      <td>O</td>\n",
       "      <td>20240423</td>\n",
       "      <td>161047</td>\n",
       "      <td>서울특별시</td>\n",
       "      <td>중구</td>\n",
       "      <td>쇼핑</td>\n",
       "      <td>쇼핑,유통</td>\n",
       "      <td>백화점</td>\n",
       "      <td>롯데백화점 본점</td>\n",
       "      <td>서울특별시 중구 소공동 1</td>\n",
       "      <td>97300</td>\n",
       "      <td>48413</td>\n",
       "      <td>내부인원</td>\n",
       "      <td>내부인원</td>\n",
       "      <td>3101644687</td>\n",
       "    </tr>\n",
       "    <tr>\n",
       "      <th>3</th>\n",
       "      <td>롯데백화점 본점</td>\n",
       "      <td>아이오로라</td>\n",
       "      <td>43524</td>\n",
       "      <td>9491********2329</td>\n",
       "      <td>9491********2329</td>\n",
       "      <td>1048126067</td>\n",
       "      <td>O</td>\n",
       "      <td>20240424</td>\n",
       "      <td>113518</td>\n",
       "      <td>서울특별시</td>\n",
       "      <td>중구</td>\n",
       "      <td>쇼핑</td>\n",
       "      <td>쇼핑,유통</td>\n",
       "      <td>백화점</td>\n",
       "      <td>롯데쇼핑(명동본점)</td>\n",
       "      <td>서울특별시 중구 소공동 1</td>\n",
       "      <td>4700</td>\n",
       "      <td>118163</td>\n",
       "      <td>기타</td>\n",
       "      <td>추정치</td>\n",
       "      <td>2001204000457533</td>\n",
       "    </tr>\n",
       "    <tr>\n",
       "      <th>4</th>\n",
       "      <td>롯데백화점 본점</td>\n",
       "      <td>아이오로라</td>\n",
       "      <td>43558</td>\n",
       "      <td>9491********0355</td>\n",
       "      <td>9491300045580355</td>\n",
       "      <td>1048126067</td>\n",
       "      <td>O</td>\n",
       "      <td>20240424</td>\n",
       "      <td>125033</td>\n",
       "      <td>서울특별시</td>\n",
       "      <td>중구</td>\n",
       "      <td>쇼핑</td>\n",
       "      <td>쇼핑,유통</td>\n",
       "      <td>백화점</td>\n",
       "      <td>롯데쇼핑(명동본점)</td>\n",
       "      <td>서울특별시 중구 소공동 1</td>\n",
       "      <td>42000</td>\n",
       "      <td>165413</td>\n",
       "      <td>내부인원</td>\n",
       "      <td>내부인원</td>\n",
       "      <td>2001203010028795</td>\n",
       "    </tr>\n",
       "  </tbody>\n",
       "</table>\n",
       "</div>"
      ],
      "text/plain": [
       "       프로모션   카드형태     id   masking_card_no         16자리 카드번호       사업자번호  \\\n",
       "0  롯데백화점 본점     코나     28  9410411100080104  9410411100080104  1048126067   \n",
       "1  롯데백화점 본점     코나     50  9410411100080104  9410411100080104  1048126067   \n",
       "2  롯데백화점 본점     코나    339  9410411100080104  9410411100080104  1048126067   \n",
       "3  롯데백화점 본점  아이오로라  43524  9491********2329  9491********2329  1048126067   \n",
       "4  롯데백화점 본점  아이오로라  43558  9491********0355  9491300045580355  1048126067   \n",
       "\n",
       "  롯데사업자_유무      결제날짜    결제시간    시/도 시/군/구 카테고리_대분류 category_one category_two  \\\n",
       "0        O  20240423  155934  서울특별시    중구       쇼핑        쇼핑,유통          백화점   \n",
       "1        O  20240423  161047  서울특별시    중구       쇼핑        쇼핑,유통          백화점   \n",
       "2        O  20240423  161047  서울특별시    중구       쇼핑        쇼핑,유통          백화점   \n",
       "3        O  20240424  113518  서울특별시    중구       쇼핑        쇼핑,유통          백화점   \n",
       "4        O  20240424  125033  서울특별시    중구       쇼핑        쇼핑,유통          백화점   \n",
       "\n",
       "          상점명              주소    결제금액   결제후금액 채널_대분류  분출채널           card_id  \n",
       "0    롯데백화점 본점  서울특별시 중구 소공동 1  105000  145503   내부인원  내부인원        3101644687  \n",
       "1    롯데백화점 본점  서울특별시 중구 소공동 1   97300   48413   내부인원  내부인원        3101644687  \n",
       "2    롯데백화점 본점  서울특별시 중구 소공동 1   97300   48413   내부인원  내부인원        3101644687  \n",
       "3  롯데쇼핑(명동본점)  서울특별시 중구 소공동 1    4700  118163     기타   추정치  2001204000457533  \n",
       "4  롯데쇼핑(명동본점)  서울특별시 중구 소공동 1   42000  165413   내부인원  내부인원  2001203010028795  "
      ]
     },
     "execution_count": 4,
     "metadata": {},
     "output_type": "execute_result"
    }
   ],
   "source": [
    "df = df_final\n",
    "\n",
    "df.head()"
   ]
  },
  {
   "cell_type": "code",
   "execution_count": 5,
   "metadata": {},
   "outputs": [
    {
     "data": {
      "text/html": [
       "<div>\n",
       "<style scoped>\n",
       "    .dataframe tbody tr th:only-of-type {\n",
       "        vertical-align: middle;\n",
       "    }\n",
       "\n",
       "    .dataframe tbody tr th {\n",
       "        vertical-align: top;\n",
       "    }\n",
       "\n",
       "    .dataframe thead th {\n",
       "        text-align: right;\n",
       "    }\n",
       "</style>\n",
       "<table border=\"1\" class=\"dataframe\">\n",
       "  <thead>\n",
       "    <tr style=\"text-align: right;\">\n",
       "      <th></th>\n",
       "      <th>프로모션</th>\n",
       "      <th>카드형태</th>\n",
       "      <th>id</th>\n",
       "      <th>masking_card_no</th>\n",
       "      <th>16자리 카드번호</th>\n",
       "      <th>사업자번호</th>\n",
       "      <th>롯데사업자_유무</th>\n",
       "      <th>결제날짜</th>\n",
       "      <th>결제시간</th>\n",
       "      <th>시/도</th>\n",
       "      <th>시/군/구</th>\n",
       "      <th>카테고리_대분류</th>\n",
       "      <th>category_one</th>\n",
       "      <th>category_two</th>\n",
       "      <th>상점명</th>\n",
       "      <th>주소</th>\n",
       "      <th>결제금액</th>\n",
       "      <th>결제후금액</th>\n",
       "      <th>채널_대분류</th>\n",
       "      <th>분출채널</th>\n",
       "      <th>card_id</th>\n",
       "    </tr>\n",
       "  </thead>\n",
       "  <tbody>\n",
       "  </tbody>\n",
       "</table>\n",
       "</div>"
      ],
      "text/plain": [
       "Empty DataFrame\n",
       "Columns: [프로모션, 카드형태, id, masking_card_no, 16자리 카드번호, 사업자번호, 롯데사업자_유무, 결제날짜, 결제시간, 시/도, 시/군/구, 카테고리_대분류, category_one, category_two, 상점명, 주소, 결제금액, 결제후금액, 채널_대분류, 분출채널, card_id]\n",
       "Index: []"
      ]
     },
     "execution_count": 5,
     "metadata": {},
     "output_type": "execute_result"
    }
   ],
   "source": [
    "df[df['16자리 카드번호'] == \"\"]"
   ]
  },
  {
   "cell_type": "code",
   "execution_count": 6,
   "metadata": {},
   "outputs": [],
   "source": [
    "# df = pd.read_csv('../data/코나아이X코리아트래블카드 - 롯데백화점_결제내역(코나+IA).csv')\n",
    "\n",
    "# df.head()"
   ]
  },
  {
   "cell_type": "code",
   "execution_count": 7,
   "metadata": {},
   "outputs": [],
   "source": [
    "# df_kona = pd.read_csv('../data/코나아이X코리아트래블카드 - 결제내역(코나).csv', header=1)\n",
    "# df_iaurora = pd.read_csv('../data/레드테이블x아이오로라 - 외부인원_NEW_결제내역.csv')\n",
    "\n",
    "# df_kona = df_kona[['id', '카드번호', '사업자번호', '결제날짜', '결제시간', '시/도', '시/군/구', '카테고리_대분류',\n",
    "#        'category_one', 'category_two', '상점명', '주소', '결제금액', '결제후금액','userId']]\n",
    "\n",
    "# df_iaurora = df_iaurora[['id','16자리 카드번호',\n",
    "#        '사업자번호', '결제날짜', '결제시간', '시/도', '시/군/구', '카테고리_대분류', 'category_one',\n",
    "#        'category_two', '상점명', '주소', 'ktc_가맹여부', 'store_id', '결제금액',\n",
    "#        '결제후잔액', 'user_id']]\n",
    "\n",
    "# df_iaurora.rename(columns={'16자리 카드번호':'카드번호'}, inplace=True)\n",
    "\n",
    "# KNdf_iaurora = pd.concat([df_kona, df_iaurora], axis=0)\n",
    "# KNdf_iaurora = KNdf_iaurora[KNdf_iaurora['결제날짜'] != ' ']\n",
    "# KNdf_iaurora['결제날짜'] = KNdf_iaurora['결제날짜'].apply(lambda x:int(x))\n",
    "# KNdf_iaurora.head()"
   ]
  },
  {
   "cell_type": "markdown",
   "metadata": {},
   "source": [
    "### 2. Preprocessing"
   ]
  },
  {
   "cell_type": "code",
   "execution_count": 8,
   "metadata": {},
   "outputs": [],
   "source": [
    "# 영플라자 => 본점 취급\n",
    "df['프로모션'] = df['프로모션'].apply(lambda x:x.replace('영플라자', '본점')) "
   ]
  },
  {
   "cell_type": "markdown",
   "metadata": {},
   "source": [
    "### 2. Set Condition"
   ]
  },
  {
   "cell_type": "code",
   "execution_count": 9,
   "metadata": {},
   "outputs": [],
   "source": [
    "df['결제날짜'] = df['결제날짜'].apply(lambda x:pd.to_datetime(x))"
   ]
  },
  {
   "cell_type": "code",
   "execution_count": 10,
   "metadata": {},
   "outputs": [],
   "source": [
    "# 프로모션 기간 설정\n",
    "promotion_start_period = '2024-04-22'\n",
    "promotion_end_period = '2024-05-10'\n",
    "\n",
    "# 사업자 번호, 지점 확인 불가능 오류\n",
    "error_store = ['산시 도삭면', '옵스', 'tamburins']\n",
    "\n",
    "condition_1 = df['결제날짜'] >= promotion_start_period\n",
    "condition_2 = df['결제날짜'] <= promotion_end_period\n",
    "condition_3 = df['상점명'].isin(error_store)"
   ]
  },
  {
   "cell_type": "code",
   "execution_count": 11,
   "metadata": {},
   "outputs": [],
   "source": [
    "target_df = df[(condition_1) & (condition_2) & ~(condition_3)]"
   ]
  },
  {
   "cell_type": "markdown",
   "metadata": {},
   "source": [
    "### 3. Dashboard"
   ]
  },
  {
   "cell_type": "code",
   "execution_count": 12,
   "metadata": {},
   "outputs": [
    {
     "data": {
      "text/plain": [
       "118"
      ]
     },
     "execution_count": 12,
     "metadata": {},
     "output_type": "execute_result"
    }
   ],
   "source": [
    "len(target_df)"
   ]
  },
  {
   "cell_type": "code",
   "execution_count": 13,
   "metadata": {},
   "outputs": [
    {
     "name": "stdout",
     "output_type": "stream",
     "text": [
      "구매고객수\n",
      "본점: 50\n",
      "잠실점: 13\n"
     ]
    }
   ],
   "source": [
    "# 구매 고객 수 (A)\n",
    "Promotion_Customer = target_df.drop_duplicates(subset=['결제날짜','card_id'])['프로모션'].value_counts()\n",
    "\n",
    "Lotte_Myeongdong_BuyCustomer = Promotion_Customer[0]\n",
    "Lotte_Jamsil_BuyCustomer= Promotion_Customer[1]\n",
    "\n",
    "print('구매고객수')\n",
    "\n",
    "print('본점:',Lotte_Myeongdong_BuyCustomer)\n",
    "\n",
    "print('잠실점:',Lotte_Jamsil_BuyCustomer)"
   ]
  },
  {
   "cell_type": "code",
   "execution_count": 14,
   "metadata": {},
   "outputs": [
    {
     "name": "stdout",
     "output_type": "stream",
     "text": [
      "전체\n",
      "캐시백 대상자: 32\n",
      "이벤트 참여율: 50.79\n"
     ]
    }
   ],
   "source": [
    "# 본점 - 캐시백 대상자, 이벤트 참여율\n",
    "Event_Rate = target_df.groupby(['결제날짜','card_id'])[['결제금액']].sum().reset_index()\n",
    "\n",
    "cashback_target = Event_Rate[Event_Rate['결제금액'] >= 200000]\n",
    "\n",
    "print('전체')\n",
    "\n",
    "print('캐시백 대상자:',len(cashback_target))\n",
    "\n",
    "print('이벤트 참여율:',round(len(cashback_target)/(Lotte_Myeongdong_BuyCustomer + Lotte_Jamsil_BuyCustomer)*100, 2))"
   ]
  },
  {
   "cell_type": "code",
   "execution_count": 15,
   "metadata": {},
   "outputs": [
    {
     "name": "stdout",
     "output_type": "stream",
     "text": [
      "본점\n",
      "캐시백 대상자 수: 26\n",
      "이벤트 참여율: 52.0\n",
      "캐시백 제공액: 520000\n"
     ]
    }
   ],
   "source": [
    "# 본점 - 캐시백 대상자, 이벤트 참여율\n",
    "Lotte_Myeongdong_df = target_df[target_df['프로모션'] == '롯데백화점 본점']\n",
    "\n",
    "Event_Rate = Lotte_Myeongdong_df.groupby(['결제날짜','card_id'])[['결제금액']].sum().reset_index()\n",
    "\n",
    "LM_cashback_target = Event_Rate[Event_Rate['결제금액'] >= 200000]\n",
    "\n",
    "print('본점')\n",
    "\n",
    "print('캐시백 대상자 수:',len(LM_cashback_target))\n",
    "\n",
    "print('이벤트 참여율:',round(len(LM_cashback_target)/Lotte_Myeongdong_BuyCustomer*100, 2))\n",
    "\n",
    "LM_cashback_won = len(LM_cashback_target) * 20000\n",
    "\n",
    "print('캐시백 제공액:',LM_cashback_won)"
   ]
  },
  {
   "cell_type": "code",
   "execution_count": 16,
   "metadata": {},
   "outputs": [
    {
     "name": "stdout",
     "output_type": "stream",
     "text": [
      "잠실점\n",
      "캐시백 대상자 수: 6\n",
      "이벤트 참여율: 46.15\n",
      "캐시백 제공액: 120000\n"
     ]
    }
   ],
   "source": [
    "# 잠실점 - 캐시백 대상자, 이벤트 참여율\n",
    "Lotte_Jamsil_df = target_df[target_df['프로모션'] == '롯데백화점 잠실점']\n",
    "\n",
    "Event_Rate = Lotte_Jamsil_df.groupby(['결제날짜','card_id'])[['결제금액']].sum().reset_index()\n",
    "\n",
    "LJ_cashback_target = Event_Rate[Event_Rate['결제금액'] >= 200000]\n",
    "\n",
    "print('잠실점')\n",
    "\n",
    "print('캐시백 대상자 수:',len(LJ_cashback_target))\n",
    "\n",
    "print('이벤트 참여율:',round(len(LJ_cashback_target)/Lotte_Jamsil_BuyCustomer*100, 2))\n",
    "\n",
    "LJ_cashback_won = len(LJ_cashback_target) * 20000\n",
    "\n",
    "print('캐시백 제공액:',LJ_cashback_won)"
   ]
  },
  {
   "cell_type": "code",
   "execution_count": 17,
   "metadata": {},
   "outputs": [
    {
     "name": "stdout",
     "output_type": "stream",
     "text": [
      "고객당 단가\n",
      "본점: 147855.6\n",
      "잠실점: 123896.92307692308\n",
      "매출액\n",
      "본점: 7392780\n",
      "잠실점: 1610660\n",
      "전체: 9003440\n"
     ]
    }
   ],
   "source": [
    "print('고객당 단가')\n",
    "\n",
    "LM_Price_Sum = Lotte_Myeongdong_df['결제금액'].sum()\n",
    "\n",
    "Price_Per_Customer = LM_Price_Sum / Lotte_Myeongdong_BuyCustomer\n",
    "\n",
    "print('본점:',Price_Per_Customer)\n",
    "\n",
    "LJ_Price_Sum = Lotte_Jamsil_df['결제금액'].sum()\n",
    "\n",
    "Price_Per_Customer = LJ_Price_Sum / Lotte_Jamsil_BuyCustomer\n",
    "\n",
    "print('잠실점:',Price_Per_Customer)\n",
    "\n",
    "\n",
    "Total_Price_Sum = target_df['결제금액'].sum()\n",
    "\n",
    "print('매출액')\n",
    "\n",
    "print('본점:',LM_Price_Sum)\n",
    "print('잠실점:',LJ_Price_Sum)\n",
    "print('전체:',Total_Price_Sum)"
   ]
  },
  {
   "cell_type": "code",
   "execution_count": 18,
   "metadata": {},
   "outputs": [
    {
     "name": "stdout",
     "output_type": "stream",
     "text": [
      "구매건수 (명동/잠실/전체)\n",
      "83 35 118\n",
      "구매당 단가 (명동/잠실/전체)\n",
      "89069 46018 76300\n"
     ]
    }
   ],
   "source": [
    "print('구매건수 (명동/잠실/전체)')\n",
    "\n",
    "LM_buy_cnt = len(Lotte_Myeongdong_df)\n",
    "LJ_buy_cnt = len(Lotte_Jamsil_df)\n",
    "Total_buy_cnt = len(target_df)\n",
    "print(LM_buy_cnt, LJ_buy_cnt, Total_buy_cnt)\n",
    "\n",
    "\n",
    "print('구매당 단가 (명동/잠실/전체)')\n",
    "\n",
    "LM_price_per_buy = int(LM_Price_Sum / LM_buy_cnt)\n",
    "LJ_price_per_buy = int(LJ_Price_Sum / LJ_buy_cnt)\n",
    "Total_price_per_buy = int(Total_Price_Sum / Total_buy_cnt)\n",
    "\n",
    "print(LM_price_per_buy, LJ_price_per_buy, Total_price_per_buy)"
   ]
  },
  {
   "cell_type": "code",
   "execution_count": 19,
   "metadata": {},
   "outputs": [
    {
     "name": "stdout",
     "output_type": "stream",
     "text": [
      "고객당 유치 비용\n",
      "본점 10400\n",
      "잠실점 9230\n"
     ]
    }
   ],
   "source": [
    "LM_marketing_cost_per_customer = int(LM_cashback_won / Lotte_Myeongdong_BuyCustomer)\n",
    "\n",
    "LJ_marketing_cost_per_customer = int(LJ_cashback_won / Lotte_Jamsil_BuyCustomer)\n",
    "\n",
    "print('고객당 유치 비용')\n",
    "print('본점', LM_marketing_cost_per_customer)\n",
    "print('잠실점', LJ_marketing_cost_per_customer)\n"
   ]
  },
  {
   "cell_type": "code",
   "execution_count": 20,
   "metadata": {},
   "outputs": [
    {
     "name": "stdout",
     "output_type": "stream",
     "text": [
      "매출액 대비 마케팅 비용 비율\n",
      "본점 7.000000000000001%\n",
      "잠실점 7.5%\n"
     ]
    }
   ],
   "source": [
    "LM_marketing_cost_per_take = round(LM_cashback_won / LM_Price_Sum, 2) * 100\n",
    "\n",
    "LJ_marketing_cost_per_take = round(LJ_cashback_won / LJ_Price_Sum, 3) * 100\n",
    "\n",
    "print('매출액 대비 마케팅 비용 비율')\n",
    "print('본점 {}%'.format(LM_marketing_cost_per_take))\n",
    "print('잠실점 {}%'.format(LJ_marketing_cost_per_take))"
   ]
  },
  {
   "cell_type": "code",
   "execution_count": 21,
   "metadata": {},
   "outputs": [],
   "source": [
    "# condition_4 = KNdf_iaurora['결제날짜'] < 20240422\n",
    "\n",
    "# compare_df = KNdf_iaurora[condition_4]"
   ]
  },
  {
   "cell_type": "code",
   "execution_count": 22,
   "metadata": {},
   "outputs": [],
   "source": [
    "# compare_df['결제금액'].sum()"
   ]
  },
  {
   "cell_type": "code",
   "execution_count": 23,
   "metadata": {},
   "outputs": [
    {
     "data": {
      "text/html": [
       "<div>\n",
       "<style scoped>\n",
       "    .dataframe tbody tr th:only-of-type {\n",
       "        vertical-align: middle;\n",
       "    }\n",
       "\n",
       "    .dataframe tbody tr th {\n",
       "        vertical-align: top;\n",
       "    }\n",
       "\n",
       "    .dataframe thead th {\n",
       "        text-align: right;\n",
       "    }\n",
       "</style>\n",
       "<table border=\"1\" class=\"dataframe\">\n",
       "  <thead>\n",
       "    <tr style=\"text-align: right;\">\n",
       "      <th></th>\n",
       "      <th>id</th>\n",
       "      <th>카드번호</th>\n",
       "      <th>사업자번호</th>\n",
       "      <th>결제날짜</th>\n",
       "      <th>결제시간</th>\n",
       "      <th>시/도</th>\n",
       "      <th>시/군/구</th>\n",
       "      <th>카테고리_대분류</th>\n",
       "      <th>category_one</th>\n",
       "      <th>category_two</th>\n",
       "      <th>상점명</th>\n",
       "      <th>주소</th>\n",
       "      <th>결제금액</th>\n",
       "      <th>결제후금액</th>\n",
       "      <th>userId</th>\n",
       "      <th>masking_card_no</th>\n",
       "      <th>ktc_가맹여부</th>\n",
       "      <th>store_id</th>\n",
       "      <th>결제후잔액</th>\n",
       "      <th>user_id</th>\n",
       "    </tr>\n",
       "  </thead>\n",
       "  <tbody>\n",
       "    <tr>\n",
       "      <th>0</th>\n",
       "      <td>26</td>\n",
       "      <td>9410411100080104</td>\n",
       "      <td>1040675289</td>\n",
       "      <td>20240423</td>\n",
       "      <td>154643</td>\n",
       "      <td>서울특별시</td>\n",
       "      <td>중구</td>\n",
       "      <td>쇼핑</td>\n",
       "      <td>생활,편의</td>\n",
       "      <td>편의점</td>\n",
       "      <td>GS25 소공점</td>\n",
       "      <td>서울특별시 중구 소공동 24</td>\n",
       "      <td>1500</td>\n",
       "      <td>250500</td>\n",
       "      <td>3101644687</td>\n",
       "      <td>NaN</td>\n",
       "      <td>NaN</td>\n",
       "      <td>NaN</td>\n",
       "      <td>NaN</td>\n",
       "      <td>NaN</td>\n",
       "    </tr>\n",
       "    <tr>\n",
       "      <th>1</th>\n",
       "      <td>28</td>\n",
       "      <td>9410411100080104</td>\n",
       "      <td>1048126067</td>\n",
       "      <td>20240423</td>\n",
       "      <td>155934</td>\n",
       "      <td>서울특별시</td>\n",
       "      <td>중구</td>\n",
       "      <td>쇼핑</td>\n",
       "      <td>쇼핑,유통</td>\n",
       "      <td>백화점</td>\n",
       "      <td>롯데백화점 본점</td>\n",
       "      <td>서울특별시 중구 소공동 1</td>\n",
       "      <td>105000</td>\n",
       "      <td>145503</td>\n",
       "      <td>3101644687</td>\n",
       "      <td>NaN</td>\n",
       "      <td>NaN</td>\n",
       "      <td>NaN</td>\n",
       "      <td>NaN</td>\n",
       "      <td>NaN</td>\n",
       "    </tr>\n",
       "    <tr>\n",
       "      <th>2</th>\n",
       "      <td>50</td>\n",
       "      <td>9410411100080104</td>\n",
       "      <td>1048126067</td>\n",
       "      <td>20240423</td>\n",
       "      <td>161047</td>\n",
       "      <td>서울특별시</td>\n",
       "      <td>중구</td>\n",
       "      <td>쇼핑</td>\n",
       "      <td>쇼핑,유통</td>\n",
       "      <td>백화점</td>\n",
       "      <td>롯데백화점 본점</td>\n",
       "      <td>서울특별시 중구 소공동 1</td>\n",
       "      <td>97300</td>\n",
       "      <td>48413</td>\n",
       "      <td>3101644687</td>\n",
       "      <td>NaN</td>\n",
       "      <td>NaN</td>\n",
       "      <td>NaN</td>\n",
       "      <td>NaN</td>\n",
       "      <td>NaN</td>\n",
       "    </tr>\n",
       "    <tr>\n",
       "      <th>3</th>\n",
       "      <td>55</td>\n",
       "      <td>9410411100080021</td>\n",
       "      <td>1048126067</td>\n",
       "      <td>20240424</td>\n",
       "      <td>125116</td>\n",
       "      <td>서울특별시</td>\n",
       "      <td>중구</td>\n",
       "      <td>쇼핑</td>\n",
       "      <td>쇼핑,유통</td>\n",
       "      <td>백화점</td>\n",
       "      <td>롯데백화점 본점</td>\n",
       "      <td>서울특별시 중구 소공동 1</td>\n",
       "      <td>15000</td>\n",
       "      <td>14460</td>\n",
       "      <td>3101644671</td>\n",
       "      <td>NaN</td>\n",
       "      <td>NaN</td>\n",
       "      <td>NaN</td>\n",
       "      <td>NaN</td>\n",
       "      <td>NaN</td>\n",
       "    </tr>\n",
       "    <tr>\n",
       "      <th>4</th>\n",
       "      <td>57</td>\n",
       "      <td>9410411100080088</td>\n",
       "      <td>1048126067</td>\n",
       "      <td>20240424</td>\n",
       "      <td>125135</td>\n",
       "      <td>서울특별시</td>\n",
       "      <td>중구</td>\n",
       "      <td>쇼핑</td>\n",
       "      <td>쇼핑,유통</td>\n",
       "      <td>백화점</td>\n",
       "      <td>롯데백화점 본점</td>\n",
       "      <td>서울특별시 중구 소공동 1</td>\n",
       "      <td>18000</td>\n",
       "      <td>282000</td>\n",
       "      <td>3101644832</td>\n",
       "      <td>NaN</td>\n",
       "      <td>NaN</td>\n",
       "      <td>NaN</td>\n",
       "      <td>NaN</td>\n",
       "      <td>NaN</td>\n",
       "    </tr>\n",
       "  </tbody>\n",
       "</table>\n",
       "</div>"
      ],
      "text/plain": [
       "   id              카드번호       사업자번호      결제날짜    결제시간    시/도 시/군/구 카테고리_대분류  \\\n",
       "0  26  9410411100080104  1040675289  20240423  154643  서울특별시    중구       쇼핑   \n",
       "1  28  9410411100080104  1048126067  20240423  155934  서울특별시    중구       쇼핑   \n",
       "2  50  9410411100080104  1048126067  20240423  161047  서울특별시    중구       쇼핑   \n",
       "3  55  9410411100080021  1048126067  20240424  125116  서울특별시    중구       쇼핑   \n",
       "4  57  9410411100080088  1048126067  20240424  125135  서울특별시    중구       쇼핑   \n",
       "\n",
       "  category_one category_two       상점명               주소    결제금액   결제후금액  \\\n",
       "0        생활,편의          편의점  GS25 소공점  서울특별시 중구 소공동 24    1500  250500   \n",
       "1        쇼핑,유통          백화점  롯데백화점 본점   서울특별시 중구 소공동 1  105000  145503   \n",
       "2        쇼핑,유통          백화점  롯데백화점 본점   서울특별시 중구 소공동 1   97300   48413   \n",
       "3        쇼핑,유통          백화점  롯데백화점 본점   서울특별시 중구 소공동 1   15000   14460   \n",
       "4        쇼핑,유통          백화점  롯데백화점 본점   서울특별시 중구 소공동 1   18000  282000   \n",
       "\n",
       "       userId masking_card_no ktc_가맹여부 store_id 결제후잔액 user_id  \n",
       "0  3101644687             NaN      NaN      NaN   NaN     NaN  \n",
       "1  3101644687             NaN      NaN      NaN   NaN     NaN  \n",
       "2  3101644687             NaN      NaN      NaN   NaN     NaN  \n",
       "3  3101644671             NaN      NaN      NaN   NaN     NaN  \n",
       "4  3101644832             NaN      NaN      NaN   NaN     NaN  "
      ]
     },
     "execution_count": 23,
     "metadata": {},
     "output_type": "execute_result"
    }
   ],
   "source": [
    "iaurora = sa.open(\"레드테이블x아이오로라\")\n",
    "df_iaurora = iaurora.worksheet(\"외부인원_NEW_결제내역\")\n",
    "values = df_iaurora.get_all_values()\n",
    "header, rows = values[0], values[1:]\n",
    "df_iaurora = pd.DataFrame(rows, columns=header)\n",
    "\n",
    "kona = sa.open(\"코나아이X코리아트래블카드\")\n",
    "df_kona = kona.worksheet(\"결제내역(코나)\")\n",
    "values = df_kona.get_all_values()\n",
    "header, rows = values[1], values[2:]\n",
    "df_kona = pd.DataFrame(rows, columns=header)\n",
    "\n",
    "df_kona = df_kona[['id', '카드번호', '사업자번호', '결제날짜', '결제시간', '시/도', '시/군/구', '카테고리_대분류',\n",
    "       'category_one', 'category_two', '상점명', '주소', '결제금액', '결제후금액','userId']]\n",
    "\n",
    "df_iaurora = df_iaurora[['id','masking_card_no','16자리 카드번호',\n",
    "       '사업자번호', '결제날짜', '결제시간', '시/도', '시/군/구', '카테고리_대분류', 'category_one',\n",
    "       'category_two', '상점명', '주소', 'ktc_가맹여부', 'store_id', '결제금액',\n",
    "       '결제후잔액', 'user_id']]\n",
    "\n",
    "df_iaurora.rename(columns={'16자리 카드번호':'카드번호'}, inplace=True)\n",
    "\n",
    "df_merge = pd.concat([df_kona, df_iaurora], axis=0)\n",
    "df_merge = df_merge[df_merge['결제날짜'] != ' ']\n",
    "df_merge['결제날짜'] = df_merge['결제날짜'].apply(lambda x:int(x))\n",
    "df_merge['결제금액'] = df_merge['결제금액'].apply(lambda x:int(x))\n",
    "\n",
    "df_merge.head()"
   ]
  },
  {
   "cell_type": "code",
   "execution_count": 24,
   "metadata": {},
   "outputs": [],
   "source": [
    "condition_4 = (df_merge['결제날짜'] <= 20240419) & (df_merge['결제날짜'] >= 20240401)\n",
    "\n",
    "df_compare = df_merge[condition_4]\n",
    "\n",
    "condition_5 = (df_merge['결제날짜'] >= 20240422) & (df_merge['결제날짜'] <= 20240510)\n",
    "\n",
    "df_compare_2 = df_merge[condition_5]"
   ]
  },
  {
   "cell_type": "code",
   "execution_count": 25,
   "metadata": {},
   "outputs": [
    {
     "name": "stdout",
     "output_type": "stream",
     "text": [
      "일 평균 매출\n",
      "프로모션 이전: 3378200\n",
      "프로모션 기간: 5335518\n"
     ]
    }
   ],
   "source": [
    "df_groupby_1 = df_compare.groupby(['결제날짜'])['결제금액'].sum().reset_index()\n",
    "\n",
    "df_1_daily_avg_sales = int(df_groupby_1['결제금액'].mean())\n",
    "\n",
    "df_groupby_2 = df_compare_2.groupby(['결제날짜'])['결제금액'].sum().reset_index()\n",
    "\n",
    "df_2_daily_avg_sales = int(df_groupby_2['결제금액'].mean())\n",
    "\n",
    "print('일 평균 매출')\n",
    "\n",
    "print('프로모션 이전: {}'.format(df_1_daily_avg_sales))\n",
    "print('프로모션 기간: {}'.format(df_2_daily_avg_sales))"
   ]
  },
  {
   "cell_type": "code",
   "execution_count": 26,
   "metadata": {},
   "outputs": [],
   "source": [
    "non_c_list = target_df[target_df['16자리 카드번호'] == \"\"]['masking_card_no'].unique().tolist()"
   ]
  },
  {
   "cell_type": "code",
   "execution_count": 27,
   "metadata": {},
   "outputs": [
    {
     "name": "stdout",
     "output_type": "stream",
     "text": [
      "일 평균 구매 고객 수\n",
      "프로모션 이전: 22.9\n",
      "프로모션 기간: 32.5\n"
     ]
    }
   ],
   "source": [
    "daily_avg_customer_cnt_1 = round(df_compare['카드번호'].nunique() / 21, 1)\n",
    "daily_avg_customer_cnt_2 = round(df_compare_2['카드번호'].nunique() / 19, 1)\n",
    "\n",
    "print('일 평균 구매 고객 수')\n",
    "\n",
    "print('프로모션 이전: {}'.format(daily_avg_customer_cnt_1))\n",
    "print('프로모션 기간: {}'.format(daily_avg_customer_cnt_2))"
   ]
  },
  {
   "cell_type": "code",
   "execution_count": 28,
   "metadata": {},
   "outputs": [
    {
     "data": {
      "text/plain": [
       "164302.8411669368"
      ]
     },
     "execution_count": 28,
     "metadata": {},
     "output_type": "execute_result"
    }
   ],
   "source": [
    "df_compare_2['결제금액'].sum() / df_compare_2['카드번호'].nunique()"
   ]
  },
  {
   "cell_type": "code",
   "execution_count": 29,
   "metadata": {},
   "outputs": [
    {
     "name": "stdout",
     "output_type": "stream",
     "text": [
      "객단가\n",
      "프로모션 이전: 147519.65065502183\n",
      "프로모션 기간: 164169.78461538462\n"
     ]
    }
   ],
   "source": [
    "daily_price_per_customer_1 = df_1_daily_avg_sales / daily_avg_customer_cnt_1\n",
    "daily_price_per_customer_2 = df_2_daily_avg_sales / daily_avg_customer_cnt_2\n",
    "\n",
    "print('객단가')\n",
    "\n",
    "print('프로모션 이전: {}'.format(daily_price_per_customer_1))\n",
    "print('프로모션 기간: {}'.format(daily_price_per_customer_2))"
   ]
  },
  {
   "cell_type": "code",
   "execution_count": 30,
   "metadata": {},
   "outputs": [],
   "source": [
    "Lc_list1 = target_df[target_df['16자리 카드번호']!='']['16자리 카드번호'].unique().tolist()\n",
    "Lc_list2 = target_df[target_df['16자리 카드번호']=='']['masking_card_no'].unique().tolist()"
   ]
  },
  {
   "cell_type": "code",
   "execution_count": 31,
   "metadata": {},
   "outputs": [],
   "source": [
    "df_Lotte_Customer = df_merge[(df_merge['masking_card_no'].isin(Lc_list2)) | (df_merge['카드번호'].isin(Lc_list1))]\n",
    "\n",
    "df_NotLotte_Customer = df_merge[(~df_merge['masking_card_no'].isin(Lc_list2)) & (~df_merge['카드번호'].isin(Lc_list1))]"
   ]
  },
  {
   "cell_type": "code",
   "execution_count": 32,
   "metadata": {},
   "outputs": [],
   "source": [
    "# # 롯데 고객 / 롯데 외 고객\n",
    "# df_Lotte_Customer = df_merge[df_merge['카드번호'].isin(Lc_list)]\n",
    "# df_NotLotte_Customer = df_merge[~df_merge['카드번호'].isin(Lc_list)]"
   ]
  },
  {
   "cell_type": "code",
   "execution_count": 33,
   "metadata": {},
   "outputs": [
    {
     "data": {
      "text/html": [
       "<div>\n",
       "<style scoped>\n",
       "    .dataframe tbody tr th:only-of-type {\n",
       "        vertical-align: middle;\n",
       "    }\n",
       "\n",
       "    .dataframe tbody tr th {\n",
       "        vertical-align: top;\n",
       "    }\n",
       "\n",
       "    .dataframe thead th {\n",
       "        text-align: right;\n",
       "    }\n",
       "</style>\n",
       "<table border=\"1\" class=\"dataframe\">\n",
       "  <thead>\n",
       "    <tr style=\"text-align: right;\">\n",
       "      <th></th>\n",
       "      <th>카테고리_대분류</th>\n",
       "      <th>count</th>\n",
       "      <th>결제금액</th>\n",
       "      <th>구매건 단가</th>\n",
       "      <th>업종별 거래건수 비율</th>\n",
       "      <th>업종별 거래금액 비율</th>\n",
       "    </tr>\n",
       "  </thead>\n",
       "  <tbody>\n",
       "    <tr>\n",
       "      <th>0</th>\n",
       "      <td>쇼핑</td>\n",
       "      <td>589</td>\n",
       "      <td>16836310</td>\n",
       "      <td>28584</td>\n",
       "      <td>51.22</td>\n",
       "      <td>62.03</td>\n",
       "    </tr>\n",
       "    <tr>\n",
       "      <th>1</th>\n",
       "      <td>식음료</td>\n",
       "      <td>416</td>\n",
       "      <td>7255430</td>\n",
       "      <td>17440</td>\n",
       "      <td>36.17</td>\n",
       "      <td>26.73</td>\n",
       "    </tr>\n",
       "    <tr>\n",
       "      <th>2</th>\n",
       "      <td>현지교통</td>\n",
       "      <td>46</td>\n",
       "      <td>767180</td>\n",
       "      <td>16677</td>\n",
       "      <td>4.00</td>\n",
       "      <td>2.83</td>\n",
       "    </tr>\n",
       "    <tr>\n",
       "      <th>3</th>\n",
       "      <td>문화/오락</td>\n",
       "      <td>41</td>\n",
       "      <td>460000</td>\n",
       "      <td>11219</td>\n",
       "      <td>3.57</td>\n",
       "      <td>1.69</td>\n",
       "    </tr>\n",
       "    <tr>\n",
       "      <th>4</th>\n",
       "      <td>기타</td>\n",
       "      <td>39</td>\n",
       "      <td>626120</td>\n",
       "      <td>16054</td>\n",
       "      <td>3.39</td>\n",
       "      <td>2.31</td>\n",
       "    </tr>\n",
       "    <tr>\n",
       "      <th>5</th>\n",
       "      <td>의료/뷰티</td>\n",
       "      <td>15</td>\n",
       "      <td>1022900</td>\n",
       "      <td>68193</td>\n",
       "      <td>1.30</td>\n",
       "      <td>3.77</td>\n",
       "    </tr>\n",
       "    <tr>\n",
       "      <th>6</th>\n",
       "      <td>카테고리 추가필요</td>\n",
       "      <td>4</td>\n",
       "      <td>176400</td>\n",
       "      <td>44100</td>\n",
       "      <td>0.35</td>\n",
       "      <td>0.65</td>\n",
       "    </tr>\n",
       "  </tbody>\n",
       "</table>\n",
       "</div>"
      ],
      "text/plain": [
       "    카테고리_대분류  count      결제금액  구매건 단가  업종별 거래건수 비율  업종별 거래금액 비율\n",
       "0         쇼핑    589  16836310   28584        51.22        62.03\n",
       "1        식음료    416   7255430   17440        36.17        26.73\n",
       "2       현지교통     46    767180   16677         4.00         2.83\n",
       "3      문화/오락     41    460000   11219         3.57         1.69\n",
       "4         기타     39    626120   16054         3.39         2.31\n",
       "5      의료/뷰티     15   1022900   68193         1.30         3.77\n",
       "6  카테고리 추가필요      4    176400   44100         0.35         0.65"
      ]
     },
     "execution_count": 33,
     "metadata": {},
     "output_type": "execute_result"
    }
   ],
   "source": [
    "LC_Category_CNT = df_Lotte_Customer['카테고리_대분류'].value_counts().reset_index()\n",
    "LC_Category_SUM = df_Lotte_Customer.groupby('카테고리_대분류')['결제금액'].sum().reset_index()\n",
    "\n",
    "df_LC_CATEGORY = pd.merge(LC_Category_CNT, LC_Category_SUM, how='inner', left_on = '카테고리_대분류', right_on = '카테고리_대분류')\n",
    "\n",
    "df_LC_CATEGORY['구매건 단가'] = df_LC_CATEGORY['결제금액'] // df_LC_CATEGORY['count']\n",
    "\n",
    "df_LC_CATEGORY['업종별 거래건수 비율'] = round(df_LC_CATEGORY['count'] / df_LC_CATEGORY['count'].sum() * 100, 2)\n",
    "df_LC_CATEGORY['업종별 거래금액 비율'] = round(df_LC_CATEGORY['결제금액'] / df_LC_CATEGORY['결제금액'].sum() * 100, 2)\n",
    "\n",
    "df_LC_CATEGORY"
   ]
  },
  {
   "cell_type": "code",
   "execution_count": 34,
   "metadata": {},
   "outputs": [
    {
     "data": {
      "text/plain": [
       "28474.8231511254"
      ]
     },
     "execution_count": 34,
     "metadata": {},
     "output_type": "execute_result"
    }
   ],
   "source": [
    "# 쇼핑에서 편의점 제외시\n",
    "17711340 / (854 - len(df_Lotte_Customer[df_Lotte_Customer['category_two'] == '편의점']))"
   ]
  },
  {
   "cell_type": "code",
   "execution_count": 35,
   "metadata": {},
   "outputs": [
    {
     "data": {
      "text/html": [
       "<div>\n",
       "<style scoped>\n",
       "    .dataframe tbody tr th:only-of-type {\n",
       "        vertical-align: middle;\n",
       "    }\n",
       "\n",
       "    .dataframe tbody tr th {\n",
       "        vertical-align: top;\n",
       "    }\n",
       "\n",
       "    .dataframe thead th {\n",
       "        text-align: right;\n",
       "    }\n",
       "</style>\n",
       "<table border=\"1\" class=\"dataframe\">\n",
       "  <thead>\n",
       "    <tr style=\"text-align: right;\">\n",
       "      <th></th>\n",
       "      <th>카테고리_대분류</th>\n",
       "      <th>count</th>\n",
       "      <th>결제금액</th>\n",
       "      <th>구매건 단가</th>\n",
       "      <th>업종별 거래건수 비율</th>\n",
       "      <th>업종별 거래금액 비율</th>\n",
       "    </tr>\n",
       "  </thead>\n",
       "  <tbody>\n",
       "    <tr>\n",
       "      <th>0</th>\n",
       "      <td>쇼핑</td>\n",
       "      <td>22563</td>\n",
       "      <td>259426514</td>\n",
       "      <td>11497</td>\n",
       "      <td>55.23</td>\n",
       "      <td>48.72</td>\n",
       "    </tr>\n",
       "    <tr>\n",
       "      <th>1</th>\n",
       "      <td>식음료</td>\n",
       "      <td>13280</td>\n",
       "      <td>191153651</td>\n",
       "      <td>14394</td>\n",
       "      <td>32.50</td>\n",
       "      <td>35.90</td>\n",
       "    </tr>\n",
       "    <tr>\n",
       "      <th>2</th>\n",
       "      <td>기타</td>\n",
       "      <td>1905</td>\n",
       "      <td>23797030</td>\n",
       "      <td>12491</td>\n",
       "      <td>4.66</td>\n",
       "      <td>4.47</td>\n",
       "    </tr>\n",
       "    <tr>\n",
       "      <th>3</th>\n",
       "      <td>현지교통</td>\n",
       "      <td>1642</td>\n",
       "      <td>24934460</td>\n",
       "      <td>15185</td>\n",
       "      <td>4.02</td>\n",
       "      <td>4.68</td>\n",
       "    </tr>\n",
       "    <tr>\n",
       "      <th>4</th>\n",
       "      <td>문화/오락</td>\n",
       "      <td>931</td>\n",
       "      <td>15962550</td>\n",
       "      <td>17145</td>\n",
       "      <td>2.28</td>\n",
       "      <td>3.00</td>\n",
       "    </tr>\n",
       "    <tr>\n",
       "      <th>5</th>\n",
       "      <td>의료/뷰티</td>\n",
       "      <td>474</td>\n",
       "      <td>16073154</td>\n",
       "      <td>33909</td>\n",
       "      <td>1.16</td>\n",
       "      <td>3.02</td>\n",
       "    </tr>\n",
       "    <tr>\n",
       "      <th>6</th>\n",
       "      <td>카테고리 추가필요</td>\n",
       "      <td>61</td>\n",
       "      <td>1159802</td>\n",
       "      <td>19013</td>\n",
       "      <td>0.15</td>\n",
       "      <td>0.22</td>\n",
       "    </tr>\n",
       "  </tbody>\n",
       "</table>\n",
       "</div>"
      ],
      "text/plain": [
       "    카테고리_대분류  count       결제금액  구매건 단가  업종별 거래건수 비율  업종별 거래금액 비율\n",
       "0         쇼핑  22563  259426514   11497        55.23        48.72\n",
       "1        식음료  13280  191153651   14394        32.50        35.90\n",
       "2         기타   1905   23797030   12491         4.66         4.47\n",
       "3       현지교통   1642   24934460   15185         4.02         4.68\n",
       "4      문화/오락    931   15962550   17145         2.28         3.00\n",
       "5      의료/뷰티    474   16073154   33909         1.16         3.02\n",
       "6  카테고리 추가필요     61    1159802   19013         0.15         0.22"
      ]
     },
     "execution_count": 35,
     "metadata": {},
     "output_type": "execute_result"
    }
   ],
   "source": [
    "NLC_Category_CNT = df_NotLotte_Customer['카테고리_대분류'].value_counts().reset_index()\n",
    "NLC_Category_SUM = df_NotLotte_Customer.groupby('카테고리_대분류')['결제금액'].sum().reset_index()\n",
    "\n",
    "df_NLC_CATEGORY = pd.merge(NLC_Category_CNT, NLC_Category_SUM, how='inner', left_on = '카테고리_대분류', right_on = '카테고리_대분류')\n",
    "\n",
    "df_NLC_CATEGORY['구매건 단가'] = df_NLC_CATEGORY['결제금액'] // df_NLC_CATEGORY['count']\n",
    "\n",
    "df_NLC_CATEGORY['업종별 거래건수 비율'] = round(df_NLC_CATEGORY['count'] / df_NLC_CATEGORY['count'].sum() * 100,2)\n",
    "df_NLC_CATEGORY['업종별 거래금액 비율'] = round(df_NLC_CATEGORY['결제금액'] / df_NLC_CATEGORY['결제금액'].sum() * 100,2)\n",
    "\n",
    "df_NLC_CATEGORY"
   ]
  },
  {
   "cell_type": "code",
   "execution_count": 36,
   "metadata": {},
   "outputs": [
    {
     "data": {
      "text/plain": [
       "19261.012287606798"
      ]
     },
     "execution_count": 36,
     "metadata": {},
     "output_type": "execute_result"
    }
   ],
   "source": [
    "# 쇼핑에서 편의점 제외시\n",
    "df_NotLotte_Customer[(df_NotLotte_Customer['카테고리_대분류'] == '쇼핑') &(df_NotLotte_Customer['category_two'] != '편의점')]['결제금액'].sum() / (22162 - len(df_NotLotte_Customer[df_NotLotte_Customer['category_two'] == '편의점']))"
   ]
  }
 ],
 "metadata": {
  "kernelspec": {
   "display_name": "query_env",
   "language": "python",
   "name": "python3"
  },
  "language_info": {
   "codemirror_mode": {
    "name": "ipython",
    "version": 3
   },
   "file_extension": ".py",
   "mimetype": "text/x-python",
   "name": "python",
   "nbconvert_exporter": "python",
   "pygments_lexer": "ipython3",
   "version": "3.11.3"
  }
 },
 "nbformat": 4,
 "nbformat_minor": 2
}
